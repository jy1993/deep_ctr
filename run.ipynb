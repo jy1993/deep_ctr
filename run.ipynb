{
 "cells": [
  {
   "cell_type": "code",
   "execution_count": 1,
   "metadata": {
    "collapsed": true
   },
   "outputs": [],
   "source": [
    "!head -1000 ./data/train.csv > ./data/train_h.csv\n",
    "!head -1000 ./data/val.csv > ./data/val_h.csv"
   ]
  },
  {
   "cell_type": "code",
   "execution_count": null,
   "metadata": {
    "collapsed": false,
    "scrolled": true
   },
   "outputs": [
    {
     "name": "stdout",
     "output_type": "stream",
     "text": [
      "FNN(\n",
      "  (embedding): ModuleList(\n",
      "    (0): Linear(in_features=17, out_features=30)\n",
      "    (1): Linear(in_features=30584, out_features=30)\n",
      "    (2): Linear(in_features=4221, out_features=30)\n",
      "    (3): Linear(in_features=1233, out_features=30)\n",
      "    (4): Linear(in_features=110, out_features=30)\n",
      "    (5): Linear(in_features=13, out_features=30)\n",
      "    (6): Linear(in_features=19, out_features=30)\n",
      "    (7): Linear(in_features=19, out_features=30)\n",
      "    (8): Linear(in_features=21, out_features=30)\n",
      "    (9): Linear(in_features=5, out_features=30)\n",
      "    (10): Linear(in_features=10, out_features=30)\n",
      "    (11): Linear(in_features=6, out_features=30)\n",
      "    (12): Linear(in_features=13, out_features=30)\n",
      "    (13): Linear(in_features=21, out_features=30)\n",
      "    (14): Linear(in_features=2298, out_features=30)\n",
      "    (15): Linear(in_features=24, out_features=30)\n",
      "    (16): Linear(in_features=22, out_features=30)\n",
      "    (17): Linear(in_features=25, out_features=30)\n",
      "    (18): Linear(in_features=61, out_features=30)\n",
      "    (19): Linear(in_features=3109, out_features=30)\n",
      "  )\n",
      "  (fc1): Linear(in_features=600, out_features=200)\n",
      "  (fc2): Linear(in_features=200, out_features=200)\n",
      "  (fc3): Linear(in_features=200, out_features=1)\n",
      "  (batchnorm1): BatchNorm1d(200, eps=1e-05, momentum=0.1, affine=True)\n",
      "  (batchnorm2): BatchNorm1d(200, eps=1e-05, momentum=0.1, affine=True)\n",
      "  (dropout): Dropout(p=0.5, inplace)\n",
      ")\n",
      "start training...\n"
     ]
    },
    {
     "name": "stderr",
     "output_type": "stream",
     "text": [
      "99it [01:42,  1.04s/it]"
     ]
    },
    {
     "name": "stdout",
     "output_type": "stream",
     "text": [
      "epochs: 1/10 batch: 100/1643\n",
      "\t\t\t\t\t\t\ttrain_loss: 0.025256946682929993\n"
     ]
    },
    {
     "name": "stderr",
     "output_type": "stream",
     "text": [
      "199it [03:23,  1.02s/it]"
     ]
    },
    {
     "name": "stdout",
     "output_type": "stream",
     "text": [
      "epochs: 1/10 batch: 200/1643\n",
      "\t\t\t\t\t\t\ttrain_loss: 0.12432800233364105\n"
     ]
    },
    {
     "name": "stderr",
     "output_type": "stream",
     "text": [
      "299it [05:04,  1.02s/it]"
     ]
    },
    {
     "name": "stdout",
     "output_type": "stream",
     "text": [
      "epochs: 1/10 batch: 300/1643\n",
      "\t\t\t\t\t\t\ttrain_loss: 0.07288412004709244\n"
     ]
    },
    {
     "name": "stderr",
     "output_type": "stream",
     "text": [
      "399it [06:45,  1.02s/it]"
     ]
    },
    {
     "name": "stdout",
     "output_type": "stream",
     "text": [
      "epochs: 1/10 batch: 400/1643\n",
      "\t\t\t\t\t\t\ttrain_loss: 0.13403530418872833\n"
     ]
    },
    {
     "name": "stderr",
     "output_type": "stream",
     "text": [
      "499it [08:27,  1.02s/it]"
     ]
    },
    {
     "name": "stdout",
     "output_type": "stream",
     "text": [
      "epochs: 1/10 batch: 500/1643\n",
      "\t\t\t\t\t\t\ttrain_loss: 0.06706057488918304\n"
     ]
    },
    {
     "name": "stderr",
     "output_type": "stream",
     "text": [
      "599it [10:05,  1.01s/it]"
     ]
    },
    {
     "name": "stdout",
     "output_type": "stream",
     "text": [
      "epochs: 1/10 batch: 600/1643\n",
      "\t\t\t\t\t\t\ttrain_loss: 0.03712797164916992\n"
     ]
    },
    {
     "name": "stderr",
     "output_type": "stream",
     "text": [
      "699it [11:46,  1.01s/it]"
     ]
    },
    {
     "name": "stdout",
     "output_type": "stream",
     "text": [
      "epochs: 1/10 batch: 700/1643\n",
      "\t\t\t\t\t\t\ttrain_loss: 0.11876076459884644\n"
     ]
    },
    {
     "name": "stderr",
     "output_type": "stream",
     "text": [
      "799it [13:25,  1.01s/it]"
     ]
    },
    {
     "name": "stdout",
     "output_type": "stream",
     "text": [
      "epochs: 1/10 batch: 800/1643\n",
      "\t\t\t\t\t\t\ttrain_loss: 0.11684397608041763\n"
     ]
    },
    {
     "name": "stderr",
     "output_type": "stream",
     "text": [
      "899it [15:04,  1.01s/it]"
     ]
    },
    {
     "name": "stdout",
     "output_type": "stream",
     "text": [
      "epochs: 1/10 batch: 900/1643\n",
      "\t\t\t\t\t\t\ttrain_loss: 0.046915967017412186\n"
     ]
    },
    {
     "name": "stderr",
     "output_type": "stream",
     "text": [
      "999it [16:42,  1.00s/it]"
     ]
    },
    {
     "name": "stdout",
     "output_type": "stream",
     "text": [
      "epochs: 1/10 batch: 1000/1643\n",
      "\t\t\t\t\t\t\ttrain_loss: 0.08676843345165253\n"
     ]
    },
    {
     "name": "stderr",
     "output_type": "stream",
     "text": [
      "1099it [18:40,  1.02s/it]"
     ]
    },
    {
     "name": "stdout",
     "output_type": "stream",
     "text": [
      "epochs: 1/10 batch: 1100/1643\n",
      "\t\t\t\t\t\t\ttrain_loss: 0.1507256180047989\n"
     ]
    },
    {
     "name": "stderr",
     "output_type": "stream",
     "text": [
      "1199it [20:18,  1.02s/it]"
     ]
    },
    {
     "name": "stdout",
     "output_type": "stream",
     "text": [
      "epochs: 1/10 batch: 1200/1643\n",
      "\t\t\t\t\t\t\ttrain_loss: 0.1253206431865692\n"
     ]
    },
    {
     "name": "stderr",
     "output_type": "stream",
     "text": [
      "1299it [21:57,  1.01s/it]"
     ]
    },
    {
     "name": "stdout",
     "output_type": "stream",
     "text": [
      "epochs: 1/10 batch: 1300/1643\n",
      "\t\t\t\t\t\t\ttrain_loss: 0.16250891983509064\n"
     ]
    },
    {
     "name": "stderr",
     "output_type": "stream",
     "text": [
      "1399it [23:36,  1.01s/it]"
     ]
    },
    {
     "name": "stdout",
     "output_type": "stream",
     "text": [
      "epochs: 1/10 batch: 1400/1643\n",
      "\t\t\t\t\t\t\ttrain_loss: 0.09996989369392395\n"
     ]
    },
    {
     "name": "stderr",
     "output_type": "stream",
     "text": [
      "1499it [25:14,  1.01s/it]"
     ]
    },
    {
     "name": "stdout",
     "output_type": "stream",
     "text": [
      "epochs: 1/10 batch: 1500/1643\n",
      "\t\t\t\t\t\t\ttrain_loss: 0.1612512469291687\n"
     ]
    },
    {
     "name": "stderr",
     "output_type": "stream",
     "text": [
      "1599it [26:53,  1.01s/it]"
     ]
    },
    {
     "name": "stdout",
     "output_type": "stream",
     "text": [
      "epochs: 1/10 batch: 1600/1643\n",
      "\t\t\t\t\t\t\ttrain_loss: 0.09672960638999939\n"
     ]
    },
    {
     "name": "stderr",
     "output_type": "stream",
     "text": [
      "1643it [27:37,  1.01s/it]\n"
     ]
    },
    {
     "name": "stdout",
     "output_type": "stream",
     "text": [
      "evaluating...\n"
     ]
    },
    {
     "name": "stderr",
     "output_type": "stream",
     "text": [
      "225it [03:32,  1.06it/s]\n",
      "99it [01:37,  1.01it/s]"
     ]
    },
    {
     "name": "stdout",
     "output_type": "stream",
     "text": [
      "epochs: 2/10 batch: 100/1643\n",
      "\t\t\t\t\t\t\ttrain_loss: 0.08571431040763855\n"
     ]
    },
    {
     "name": "stderr",
     "output_type": "stream",
     "text": [
      "199it [03:15,  1.02it/s]"
     ]
    },
    {
     "name": "stdout",
     "output_type": "stream",
     "text": [
      "epochs: 2/10 batch: 200/1643\n",
      "\t\t\t\t\t\t\ttrain_loss: 0.07021145522594452\n"
     ]
    },
    {
     "name": "stderr",
     "output_type": "stream",
     "text": [
      "299it [04:37,  1.08it/s]"
     ]
    },
    {
     "name": "stdout",
     "output_type": "stream",
     "text": [
      "epochs: 2/10 batch: 300/1643\n",
      "\t\t\t\t\t\t\ttrain_loss: 0.11002960801124573\n"
     ]
    },
    {
     "name": "stderr",
     "output_type": "stream",
     "text": [
      "399it [06:00,  1.11it/s]"
     ]
    },
    {
     "name": "stdout",
     "output_type": "stream",
     "text": [
      "epochs: 2/10 batch: 400/1643\n",
      "\t\t\t\t\t\t\ttrain_loss: 0.06630053371191025\n"
     ]
    },
    {
     "name": "stderr",
     "output_type": "stream",
     "text": [
      "499it [07:21,  1.13it/s]"
     ]
    },
    {
     "name": "stdout",
     "output_type": "stream",
     "text": [
      "epochs: 2/10 batch: 500/1643\n",
      "\t\t\t\t\t\t\ttrain_loss: 0.11559523642063141\n"
     ]
    },
    {
     "name": "stderr",
     "output_type": "stream",
     "text": [
      "599it [08:41,  1.15it/s]"
     ]
    },
    {
     "name": "stdout",
     "output_type": "stream",
     "text": [
      "epochs: 2/10 batch: 600/1643\n",
      "\t\t\t\t\t\t\ttrain_loss: 0.05344129726290703\n"
     ]
    },
    {
     "name": "stderr",
     "output_type": "stream",
     "text": [
      "699it [10:03,  1.16it/s]"
     ]
    },
    {
     "name": "stdout",
     "output_type": "stream",
     "text": [
      "epochs: 2/10 batch: 700/1643\n",
      "\t\t\t\t\t\t\ttrain_loss: 0.08743356168270111\n"
     ]
    },
    {
     "name": "stderr",
     "output_type": "stream",
     "text": [
      "799it [11:24,  1.17it/s]"
     ]
    },
    {
     "name": "stdout",
     "output_type": "stream",
     "text": [
      "epochs: 2/10 batch: 800/1643\n",
      "\t\t\t\t\t\t\ttrain_loss: 0.09809946268796921\n"
     ]
    },
    {
     "name": "stderr",
     "output_type": "stream",
     "text": [
      "899it [12:44,  1.18it/s]"
     ]
    },
    {
     "name": "stdout",
     "output_type": "stream",
     "text": [
      "epochs: 2/10 batch: 900/1643\n",
      "\t\t\t\t\t\t\ttrain_loss: 0.07851032167673111\n"
     ]
    },
    {
     "name": "stderr",
     "output_type": "stream",
     "text": [
      "999it [14:04,  1.18it/s]"
     ]
    },
    {
     "name": "stdout",
     "output_type": "stream",
     "text": [
      "epochs: 2/10 batch: 1000/1643\n",
      "\t\t\t\t\t\t\ttrain_loss: 0.05231228470802307\n"
     ]
    },
    {
     "name": "stderr",
     "output_type": "stream",
     "text": [
      "1099it [15:25,  1.19it/s]"
     ]
    },
    {
     "name": "stdout",
     "output_type": "stream",
     "text": [
      "epochs: 2/10 batch: 1100/1643\n",
      "\t\t\t\t\t\t\ttrain_loss: 0.06538563966751099\n"
     ]
    },
    {
     "name": "stderr",
     "output_type": "stream",
     "text": [
      "1199it [16:45,  1.19it/s]"
     ]
    },
    {
     "name": "stdout",
     "output_type": "stream",
     "text": [
      "epochs: 2/10 batch: 1200/1643\n",
      "\t\t\t\t\t\t\ttrain_loss: 0.14366894960403442\n"
     ]
    },
    {
     "name": "stderr",
     "output_type": "stream",
     "text": [
      "1299it [18:05,  1.20it/s]"
     ]
    },
    {
     "name": "stdout",
     "output_type": "stream",
     "text": [
      "epochs: 2/10 batch: 1300/1643\n",
      "\t\t\t\t\t\t\ttrain_loss: 0.034686047583818436\n"
     ]
    },
    {
     "name": "stderr",
     "output_type": "stream",
     "text": [
      "1399it [19:25,  1.20it/s]"
     ]
    },
    {
     "name": "stdout",
     "output_type": "stream",
     "text": [
      "epochs: 2/10 batch: 1400/1643\n",
      "\t\t\t\t\t\t\ttrain_loss: 0.09599099308252335\n"
     ]
    },
    {
     "name": "stderr",
     "output_type": "stream",
     "text": [
      "1499it [20:45,  1.20it/s]"
     ]
    },
    {
     "name": "stdout",
     "output_type": "stream",
     "text": [
      "epochs: 2/10 batch: 1500/1643\n",
      "\t\t\t\t\t\t\ttrain_loss: 0.1342240422964096\n"
     ]
    },
    {
     "name": "stderr",
     "output_type": "stream",
     "text": [
      "1599it [22:06,  1.21it/s]"
     ]
    },
    {
     "name": "stdout",
     "output_type": "stream",
     "text": [
      "epochs: 2/10 batch: 1600/1643\n",
      "\t\t\t\t\t\t\ttrain_loss: 0.11542029678821564\n"
     ]
    },
    {
     "name": "stderr",
     "output_type": "stream",
     "text": [
      "1643it [22:41,  1.21it/s]\n"
     ]
    },
    {
     "name": "stdout",
     "output_type": "stream",
     "text": [
      "evaluating...\n"
     ]
    },
    {
     "name": "stderr",
     "output_type": "stream",
     "text": [
      "225it [02:54,  1.29it/s]\n",
      "99it [01:19,  1.24it/s]"
     ]
    },
    {
     "name": "stdout",
     "output_type": "stream",
     "text": [
      "epochs: 3/10 batch: 100/1643\n",
      "\t\t\t\t\t\t\ttrain_loss: 0.05859401822090149\n"
     ]
    },
    {
     "name": "stderr",
     "output_type": "stream",
     "text": [
      "199it [02:39,  1.25it/s]"
     ]
    },
    {
     "name": "stdout",
     "output_type": "stream",
     "text": [
      "epochs: 3/10 batch: 200/1643\n",
      "\t\t\t\t\t\t\ttrain_loss: 0.062210895121097565\n"
     ]
    },
    {
     "name": "stderr",
     "output_type": "stream",
     "text": [
      "299it [04:00,  1.24it/s]"
     ]
    },
    {
     "name": "stdout",
     "output_type": "stream",
     "text": [
      "epochs: 3/10 batch: 300/1643\n",
      "\t\t\t\t\t\t\ttrain_loss: 0.05900578573346138\n"
     ]
    },
    {
     "name": "stderr",
     "output_type": "stream",
     "text": [
      "399it [05:20,  1.24it/s]"
     ]
    },
    {
     "name": "stdout",
     "output_type": "stream",
     "text": [
      "epochs: 3/10 batch: 400/1643\n",
      "\t\t\t\t\t\t\ttrain_loss: 0.08334770798683167\n"
     ]
    },
    {
     "name": "stderr",
     "output_type": "stream",
     "text": [
      "499it [06:40,  1.25it/s]"
     ]
    },
    {
     "name": "stdout",
     "output_type": "stream",
     "text": [
      "epochs: 3/10 batch: 500/1643\n",
      "\t\t\t\t\t\t\ttrain_loss: 0.06047989800572395\n"
     ]
    },
    {
     "name": "stderr",
     "output_type": "stream",
     "text": [
      "599it [08:00,  1.25it/s]"
     ]
    },
    {
     "name": "stdout",
     "output_type": "stream",
     "text": [
      "epochs: 3/10 batch: 600/1643\n",
      "\t\t\t\t\t\t\ttrain_loss: 0.10310032218694687\n"
     ]
    },
    {
     "name": "stderr",
     "output_type": "stream",
     "text": [
      "699it [09:20,  1.25it/s]"
     ]
    },
    {
     "name": "stdout",
     "output_type": "stream",
     "text": [
      "epochs: 3/10 batch: 700/1643\n",
      "\t\t\t\t\t\t\ttrain_loss: 0.13968993723392487\n"
     ]
    },
    {
     "name": "stderr",
     "output_type": "stream",
     "text": [
      "799it [10:41,  1.25it/s]"
     ]
    },
    {
     "name": "stdout",
     "output_type": "stream",
     "text": [
      "epochs: 3/10 batch: 800/1643\n",
      "\t\t\t\t\t\t\ttrain_loss: 0.06244409829378128\n"
     ]
    },
    {
     "name": "stderr",
     "output_type": "stream",
     "text": [
      "899it [12:01,  1.25it/s]"
     ]
    },
    {
     "name": "stdout",
     "output_type": "stream",
     "text": [
      "epochs: 3/10 batch: 900/1643\n",
      "\t\t\t\t\t\t\ttrain_loss: 0.06116218492388725\n"
     ]
    },
    {
     "name": "stderr",
     "output_type": "stream",
     "text": [
      "999it [13:21,  1.25it/s]"
     ]
    },
    {
     "name": "stdout",
     "output_type": "stream",
     "text": [
      "epochs: 3/10 batch: 1000/1643\n",
      "\t\t\t\t\t\t\ttrain_loss: 0.08887030929327011\n"
     ]
    },
    {
     "name": "stderr",
     "output_type": "stream",
     "text": [
      "1099it [14:41,  1.25it/s]"
     ]
    },
    {
     "name": "stdout",
     "output_type": "stream",
     "text": [
      "epochs: 3/10 batch: 1100/1643\n",
      "\t\t\t\t\t\t\ttrain_loss: 0.1482677012681961\n"
     ]
    },
    {
     "name": "stderr",
     "output_type": "stream",
     "text": [
      "1199it [16:03,  1.24it/s]"
     ]
    },
    {
     "name": "stdout",
     "output_type": "stream",
     "text": [
      "epochs: 3/10 batch: 1200/1643\n",
      "\t\t\t\t\t\t\ttrain_loss: 0.09180081635713577\n"
     ]
    },
    {
     "name": "stderr",
     "output_type": "stream",
     "text": [
      "1299it [17:23,  1.25it/s]"
     ]
    },
    {
     "name": "stdout",
     "output_type": "stream",
     "text": [
      "epochs: 3/10 batch: 1300/1643\n",
      "\t\t\t\t\t\t\ttrain_loss: 0.10162205249071121\n"
     ]
    },
    {
     "name": "stderr",
     "output_type": "stream",
     "text": [
      "1399it [19:03,  1.22it/s]"
     ]
    },
    {
     "name": "stdout",
     "output_type": "stream",
     "text": [
      "epochs: 3/10 batch: 1400/1643\n",
      "\t\t\t\t\t\t\ttrain_loss: 0.02842402271926403\n"
     ]
    },
    {
     "name": "stderr",
     "output_type": "stream",
     "text": [
      "1499it [21:09,  1.18it/s]"
     ]
    },
    {
     "name": "stdout",
     "output_type": "stream",
     "text": [
      "epochs: 3/10 batch: 1500/1643\n",
      "\t\t\t\t\t\t\ttrain_loss: 0.07798841595649719\n"
     ]
    },
    {
     "name": "stderr",
     "output_type": "stream",
     "text": [
      "1599it [23:21,  1.14it/s]"
     ]
    },
    {
     "name": "stdout",
     "output_type": "stream",
     "text": [
      "epochs: 3/10 batch: 1600/1643\n",
      "\t\t\t\t\t\t\ttrain_loss: 0.0608043409883976\n"
     ]
    },
    {
     "name": "stderr",
     "output_type": "stream",
     "text": [
      "1643it [24:34,  1.11it/s]\n"
     ]
    },
    {
     "name": "stdout",
     "output_type": "stream",
     "text": [
      "evaluating...\n"
     ]
    },
    {
     "name": "stderr",
     "output_type": "stream",
     "text": [
      "225it [03:46,  1.01s/it]\n",
      "99it [01:46,  1.08s/it]"
     ]
    },
    {
     "name": "stdout",
     "output_type": "stream",
     "text": [
      "epochs: 4/10 batch: 100/1643\n",
      "\t\t\t\t\t\t\ttrain_loss: 0.08739276230335236\n"
     ]
    },
    {
     "name": "stderr",
     "output_type": "stream",
     "text": [
      "199it [03:14,  1.03it/s]"
     ]
    },
    {
     "name": "stdout",
     "output_type": "stream",
     "text": [
      "epochs: 4/10 batch: 200/1643\n",
      "\t\t\t\t\t\t\ttrain_loss: 0.11621886491775513\n"
     ]
    },
    {
     "name": "stderr",
     "output_type": "stream",
     "text": [
      "299it [04:34,  1.09it/s]"
     ]
    },
    {
     "name": "stdout",
     "output_type": "stream",
     "text": [
      "epochs: 4/10 batch: 300/1643\n",
      "\t\t\t\t\t\t\ttrain_loss: 0.07524025440216064\n"
     ]
    },
    {
     "name": "stderr",
     "output_type": "stream",
     "text": [
      "399it [05:54,  1.13it/s]"
     ]
    },
    {
     "name": "stdout",
     "output_type": "stream",
     "text": [
      "epochs: 4/10 batch: 400/1643\n",
      "\t\t\t\t\t\t\ttrain_loss: 0.11004259437322617\n"
     ]
    },
    {
     "name": "stderr",
     "output_type": "stream",
     "text": [
      "499it [07:17,  1.14it/s]"
     ]
    },
    {
     "name": "stdout",
     "output_type": "stream",
     "text": [
      "epochs: 4/10 batch: 500/1643\n",
      "\t\t\t\t\t\t\ttrain_loss: 0.05099019780755043\n"
     ]
    },
    {
     "name": "stderr",
     "output_type": "stream",
     "text": [
      "599it [09:07,  1.09it/s]"
     ]
    },
    {
     "name": "stdout",
     "output_type": "stream",
     "text": [
      "epochs: 4/10 batch: 600/1643\n",
      "\t\t\t\t\t\t\ttrain_loss: 0.11264073103666306\n"
     ]
    },
    {
     "name": "stderr",
     "output_type": "stream",
     "text": [
      "699it [10:59,  1.06it/s]"
     ]
    },
    {
     "name": "stdout",
     "output_type": "stream",
     "text": [
      "epochs: 4/10 batch: 700/1643\n",
      "\t\t\t\t\t\t\ttrain_loss: 0.0638873428106308\n"
     ]
    },
    {
     "name": "stderr",
     "output_type": "stream",
     "text": [
      "799it [12:47,  1.04it/s]"
     ]
    },
    {
     "name": "stdout",
     "output_type": "stream",
     "text": [
      "epochs: 4/10 batch: 800/1643\n",
      "\t\t\t\t\t\t\ttrain_loss: 0.050467975437641144\n"
     ]
    },
    {
     "name": "stderr",
     "output_type": "stream",
     "text": [
      "899it [14:39,  1.02it/s]"
     ]
    },
    {
     "name": "stdout",
     "output_type": "stream",
     "text": [
      "epochs: 4/10 batch: 900/1643\n",
      "\t\t\t\t\t\t\ttrain_loss: 0.08091957867145538\n"
     ]
    },
    {
     "name": "stderr",
     "output_type": "stream",
     "text": [
      "926it [15:11,  1.02it/s]"
     ]
    }
   ],
   "source": [
    "from main import train\n",
    "train(print_every = 100)"
   ]
  },
  {
   "cell_type": "code",
   "execution_count": null,
   "metadata": {
    "collapsed": true
   },
   "outputs": [],
   "source": []
  }
 ],
 "metadata": {
  "kernelspec": {
   "display_name": "Python 3",
   "language": "python",
   "name": "python3"
  },
  "language_info": {
   "codemirror_mode": {
    "name": "ipython",
    "version": 3
   },
   "file_extension": ".py",
   "mimetype": "text/x-python",
   "name": "python",
   "nbconvert_exporter": "python",
   "pygments_lexer": "ipython3",
   "version": "3.6.0"
  }
 },
 "nbformat": 4,
 "nbformat_minor": 2
}
